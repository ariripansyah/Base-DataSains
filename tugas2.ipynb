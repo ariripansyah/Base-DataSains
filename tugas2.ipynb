{
  "nbformat": 4,
  "nbformat_minor": 0,
  "metadata": {
    "colab": {
      "provenance": []
    },
    "kernelspec": {
      "name": "python3",
      "display_name": "Python 3"
    },
    "language_info": {
      "name": "python"
    }
  },
  "cells": [
    {
      "cell_type": "code",
      "execution_count": null,
      "metadata": {
        "id": "UxP46azlCzX_"
      },
      "outputs": [],
      "source": [
        "import statistics \n",
        "import pandas as pd\n",
        "import numpy as np\n",
        "from scipy import stats"
      ]
    },
    {
      "cell_type": "code",
      "source": [
        "s2_a = 0\n",
        "s2_b = 1\n",
        "s2_c = 4\n",
        "s2_d = 7\n",
        "s2_e = 5\n",
        "s2_f = 0\n",
        "\n",
        "hasil_s2 = s2_a + s2_b + s2_c + s2_d + s2_e + s2_f\n",
        "print('    ======soal 1=======')\n",
        "print('maka jumlah yang tamat s2 ' + str(hasil_s2))\n",
        "\n",
        "s1_a = 4\n",
        "s1_b = 12\n",
        "s1_c = 6\n",
        "s1_d = 13\n",
        "s1_e = 14\n",
        "s1_f = 0\n",
        "\n",
        "hasil_s1 = s1_a + s1_b + s1_c + s1_d + s1_e + s1_f\n",
        "print('maka jumlah yang tamat s1 ' + str(hasil_s1))\n",
        "\n",
        "SMA_a = 12\n",
        "SMA_b = 17\n",
        "SMA_c = 5\n",
        "SMA_d = 20\n",
        "SMA_e = 11\n",
        "SMA_f = 75\n",
        "\n",
        "hasil_SMA = SMA_a + SMA_b + SMA_c + SMA_d + SMA_e + SMA_f\n",
        "print('maka jumlah yang tamat SMA ' + str(hasil_SMA))\n",
        "\n",
        "SMP_a = 5\n",
        "SMP_b = 6\n",
        "SMP_c = 15\n",
        "SMP_d = 9\n",
        "SMP_e = 20\n",
        "SMP_f = 15\n",
        "\n",
        "hasil_SMP = SMP_a + SMP_b + SMP_c + SMP_d + SMP_e + SMP_f\n",
        "print('maka jumlah yang tamat SMP ' + str(hasil_SMP))\n",
        "\n",
        "SD_a = 1\n",
        "SD_b = 8\n",
        "SD_c = 0\n",
        "SD_d = 19\n",
        "SD_e = 10\n",
        "SD_f = 1\n",
        "\n",
        "hasil_SD = SD_a + SD_b + SD_c + SD_d + SD_e + SD_f\n",
        "print('maka jumlah yang tamat SD ' + str(hasil_SD))\n",
        "\n",
        "tdk_diketahui_a = 1\n",
        "tdk_diketahui_b = 8\n",
        "tdk_diketahui_c = 0\n",
        "tdk_diketahui_d = 19\n",
        "tdk_diketahui_e = 10\n",
        "tdk_diketahui_f = 1\n",
        "\n",
        "hasil_tdk_diketahui = tdk_diketahui_a + tdk_diketahui_b + tdk_diketahui_c + tdk_diketahui_d + tdk_diketahui_e + tdk_diketahui_f\n",
        "print('maka jumlah yang tamat tdk_diketahui ' + str(hasil_tdk_diketahui))\n",
        "\n",
        "print('    ======soal 2======')\n",
        "hasil_s2 = hasil_s2 * 0.25\n",
        "hasil_s1 = hasil_s1 * 0.20\n",
        "hasil_SMA = hasil_SMA * 0.15\n",
        "hasil_SMP = hasil_SMP * 0.10\n",
        "hasil_SD = hasil_SD * 0.05\n",
        "hasil_tdk_diketahui = hasil_tdk_diketahui * 0.03\n",
        "print('maka index tamat s2 ' + str(hasil_s2))\n",
        "print('maka index tamat s1 ' + str(hasil_s1))\n",
        "print('maka index tamat SMA ' + str(hasil_SMA))\n",
        "print('maka index tamat SMP ' + str(hasil_SMP))\n",
        "print('maka index tamat SD ' + str(hasil_SD))\n",
        "print('maka index tamat tdk_diketahui ' + str(hasil_tdk_diketahui))\n",
        "\n",
        "print('    ======soal 3=====')\n",
        "index_a = 0.25\n",
        "index_b = 0.20\n",
        "index_c = 0.15\n",
        "index_d = 0.10\n",
        "index_e = 0.05\n",
        "index_f = 0.03\n",
        "\n",
        "s2 = 0 * 0.25\n",
        "s1 = 4 * 0.20\n",
        "SMA = 12 * 0.15\n",
        "SMP = 5 * 0.10\n",
        "SD = 1 * 0.05\n",
        "tdk_diketahui = 2 * 0.03\n",
        "print('maka index tamat s2 ' + str(s2))\n",
        "print('maka index tamat s1 ' + str(s1))\n",
        "print('maka index tamat SMA ' + str(SMA))\n",
        "print('maka index tamat SMP ' + str(SMP))\n",
        "print('maka index tamat SD ' + str(SD))\n",
        "print('maka index tamat tdk_diketahui ' + str(tdk_diketahui))\n",
        "\n",
        "print('    =====soal 4=====')\n",
        "usia = ('70')\n",
        "print('maka dengan index terkecil di usia  ' + str(usia))\n",
        "\n",
        "print('    =====soal 5=====')\n",
        "import matplotlib.pyplot as plt\n",
        "fig = plt.figure()\n",
        "ax = fig.add_axes([0,0,1,1])\n",
        "pendidikan = ['s2','s1','SMA','SMP','SD','tdk_diketahui']\n",
        "jumlah_orang = [17, 49, 140, 70, 39, 39]\n",
        "c = ['blue','orange','purple','red','yellow']\n",
        "plt.bar (pendidikan,jumlah_orang, color = c)\n",
        "plt.show()\n",
        "#diagram batang\n",
        "fig = plt.figure()\n",
        "ax = fig.add_axes([0,0,1,1])\n",
        "ax.axis('equal')\n",
        "pendidikan = ['s2','s1','SMA','SMP','SD','tdk_diketahui']\n",
        "jumlah_orang = [17, 49, 140, 70, 39, 39]\n",
        "ax.pie(jumlah_orang,labels=pendidikan,autopct='%1.2f%%')\n",
        "plt.show()"
      ],
      "metadata": {
        "colab": {
          "base_uri": "https://localhost:8080/",
          "height": 1000
        },
        "id": "v4SycBE9DByy",
        "outputId": "22d59f03-201c-4095-a726-e7506d8ed7f8"
      },
      "execution_count": 2,
      "outputs": [
        {
          "output_type": "stream",
          "name": "stdout",
          "text": [
            "    ======soal 1=======\n",
            "maka jumlah yang tamat s2 17\n",
            "maka jumlah yang tamat s1 49\n",
            "maka jumlah yang tamat SMA 140\n",
            "maka jumlah yang tamat SMP 70\n",
            "maka jumlah yang tamat SD 39\n",
            "maka jumlah yang tamat tdk_diketahui 39\n",
            "    ======soal 2======\n",
            "maka index tamat s2 4.25\n",
            "maka index tamat s1 9.8\n",
            "maka index tamat SMA 21.0\n",
            "maka index tamat SMP 7.0\n",
            "maka index tamat SD 1.9500000000000002\n",
            "maka index tamat tdk_diketahui 1.17\n",
            "    ======soal 3=====\n",
            "maka index tamat s2 0.0\n",
            "maka index tamat s1 0.8\n",
            "maka index tamat SMA 1.7999999999999998\n",
            "maka index tamat SMP 0.5\n",
            "maka index tamat SD 0.05\n",
            "maka index tamat tdk_diketahui 0.06\n",
            "    =====soal 4=====\n",
            "maka dengan index terkecil di usia  70\n",
            "    =====soal 5=====\n"
          ]
        },
        {
          "output_type": "display_data",
          "data": {
            "text/plain": [
              "<Figure size 432x288 with 1 Axes>"
            ],
            "image/png": "[encoded data removed]"
          },
          "metadata": {
            "needs_background": "light"
          }
        },
        {
          "output_type": "display_data",
          "data": {
            "text/plain": [
              "<Figure size 432x288 with 1 Axes>"
            ],
            "image/png": "[encoded data removed]"
          },
          "metadata": {}
        }
      ]
    }
  ]
}
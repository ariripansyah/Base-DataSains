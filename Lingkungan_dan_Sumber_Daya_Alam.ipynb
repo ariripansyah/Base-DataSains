{
  "nbformat": 4,
  "nbformat_minor": 0,
  "metadata": {
    "colab": {
      "private_outputs": true,
      "provenance": []
    },
    "kernelspec": {
      "name": "python3",
      "display_name": "Python 3"
    },
    "language_info": {
      "name": "python"
    }
  },
  "cells": [
    {
      "cell_type": "code",
      "execution_count": null,
      "metadata": {
        "id": "VJobdPqDbc31"
      },
      "outputs": [],
      "source": [
        "from google.colab import drive\n",
        "drive.mount('/content/drive')"
      ]
    },
    {
      "cell_type": "code",
      "source": [
        "import pandas as pd\n",
        "path = '/content/drive/MyDrive/Colab Notebooks/csv/data_lingkungan - Sheet1.csv'\n",
        "df = pd.read_csv(path)\n",
        "df.describe()"
      ],
      "metadata": {
        "id": "pZe2OTb0f7_F"
      },
      "execution_count": null,
      "outputs": []
    },
    {
      "cell_type": "code",
      "source": [
        "df"
      ],
      "metadata": {
        "id": "PjmAGDUSgTXu"
      },
      "execution_count": null,
      "outputs": []
    },
    {
      "cell_type": "code",
      "source": [
        "import matplotlib.pyplot as plt #visualisai data\n",
        "\n",
        "df.plot(kind='scatter', x='jumlah_capaian', y='jumlah_target') #untuk nama variable\n",
        "\n",
        "plt.title = ('Indeks kesejahteraan warga')\n",
        "plt.xlabel('jumlah_yang_dilaporkan')\n",
        "plt.ylabel('jumlah_yang_ada')\n",
        "plt.xlim(0,4700)\n",
        "plt.ylim(0,4500)\n",
        "plt.grid(True)\n",
        "plt.show()"
      ],
      "metadata": {
        "id": "pI0KlAG9iNhY"
      },
      "execution_count": null,
      "outputs": []
    },
    {
      "cell_type": "code",
      "source": [
        "import numpy as np\n",
        "x = np.array(df['jumlah_capaian']) #feature\n",
        "y = np.array(df['jumlah_target']) #target\n",
        "\n",
        "print(f'x : {x}') #data x itu adalah variable independent atau bebas\n",
        "print(f'y : {y}') #var y itu adalah variable terikat/dependent"
      ],
      "metadata": {
        "id": "P_H-rITCnpKw"
      },
      "execution_count": null,
      "outputs": []
    },
    {
      "cell_type": "code",
      "source": [
        "x = y.reshape(-1, 1)\n",
        "x.shape"
      ],
      "metadata": {
        "id": "AR8vskGSx67F"
      },
      "execution_count": null,
      "outputs": []
    },
    {
      "cell_type": "code",
      "source": [
        "#training model\n",
        "from sklearn.linear_model import LinearRegression #memanggil model regressi linear\n",
        "\n",
        "model = LinearRegression() #variable model bisa di ganti\n",
        "model.fit(x, y) #x feature y target\n",
        "#"
      ],
      "metadata": {
        "id": "wMQMmMaezHYV"
      },
      "execution_count": null,
      "outputs": []
    },
    {
      "cell_type": "code",
      "source": [
        "x_vis = np.array([0,489397]).reshape(-1, 1)\n",
        "y_vis = model.predict(x_vis)"
      ],
      "metadata": {
        "id": "wAEfIFn4zLkG"
      },
      "execution_count": null,
      "outputs": []
    },
    {
      "cell_type": "code",
      "source": [
        "plt.scatter(x, y)\n",
        "plt.plot(x_vis, y_vis,'-r')\n",
        "plt.title=('pendidikan')\n",
        "plt.xlabel('jumlah_capaian')\n",
        "plt.ylabel('jumlah_target')\n",
        "plt.xlim(0,4700)\n",
        "plt.ylim(0,4500)\n",
        "plt.grid(True)\n",
        "plt.show()"
      ],
      "metadata": {
        "id": "OTd6P612zSYM"
      },
      "execution_count": null,
      "outputs": []
    },
    {
      "cell_type": "code",
      "source": [
        "print(f'intercept : {model.intercept_}')\n",
        "print(f'slope : {model.coef_}')\n"
      ],
      "metadata": {
        "id": "mJgdvonXztip"
      },
      "execution_count": null,
      "outputs": []
    },
    {
      "cell_type": "code",
      "source": [
        "jumlah_capaian = np.array([20, 30, 40, 50]).reshape(-1, 1)\n",
        "jumlah_capaian"
      ],
      "metadata": {
        "id": "dK_E7hKjzygK"
      },
      "execution_count": null,
      "outputs": []
    },
    {
      "cell_type": "code",
      "source": [
        "prediksi_jumlah_capaian = model.predict(jumlah_capaian)\n",
        "prediksi_jumlah_capaian"
      ],
      "metadata": {
        "id": "ffne_EQdz7DZ"
      },
      "execution_count": null,
      "outputs": []
    },
    {
      "cell_type": "code",
      "source": [
        "for lingkungan, index in zip(jumlah_capaian, prediksi_jumlah_capaian):\n",
        "    print(f'luas panen: {jumlah_capaian} produksi : {index}')"
      ],
      "metadata": {
        "id": "F772qZK40IGm"
      },
      "execution_count": null,
      "outputs": []
    },
    {
      "cell_type": "code",
      "source": [
        "df['jumlah_capaian'].sum()"
      ],
      "metadata": {
        "id": "sr5YJBt80VRk"
      },
      "execution_count": null,
      "outputs": []
    },
    {
      "cell_type": "code",
      "source": [
        "df['jumlah_target'].sum()"
      ],
      "metadata": {
        "id": "f_A6bzCl0ZWF"
      },
      "execution_count": null,
      "outputs": []
    },
    {
      "cell_type": "code",
      "source": [
        "fig = plt.figure()\n",
        "ax = fig.add_axes([0,0,1,1])\n",
        "plt.title = (\"JUMLAH USIA\")\n",
        "indeks = ['jumlah_capaian','jumlah_target']\n",
        "jumlah = [31551,34519]\n",
        "c = ['red','purple']\n",
        "plt.bar (indeks, jumlah, color = c)\n",
        "plt.show()"
      ],
      "metadata": {
        "id": "fbKvlR0E0kuB"
      },
      "execution_count": null,
      "outputs": []
    },
    {
      "cell_type": "code",
      "source": [
        "fig = plt.figure()\n",
        "ax = fig.add_axes([0,0,1,1])\n",
        "ax.axis('equal')\n",
        "plt.title=('')\n",
        "indeks = ['jumlah_capaian','jumlah_target']\n",
        "jumlah = [31551,34519]\n",
        "ax.pie(jumlah,labels=indeks,autopct='%1.2f%%')\n",
        "plt.show()"
      ],
      "metadata": {
        "id": "jWqiqc0W0zql"
      },
      "execution_count": null,
      "outputs": []
    },
    {
      "cell_type": "code",
      "source": [
        "x = np.linspace(31551,34519)\n",
        "y = np.sin(x)\n",
        "\n",
        "plt.plot(x, y, 'o', color='yellow');"
      ],
      "metadata": {
        "id": "JK-dVN5w3uhI"
      },
      "execution_count": null,
      "outputs": []
    }
  ]
}
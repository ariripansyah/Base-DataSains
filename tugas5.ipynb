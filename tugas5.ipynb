{
  "nbformat": 4,
  "nbformat_minor": 0,
  "metadata": {
    "colab": {
      "provenance": [],
      "collapsed_sections": []
    },
    "kernelspec": {
      "name": "python3",
      "display_name": "Python 3"
    },
    "language_info": {
      "name": "python"
    }
  },
  "cells": [
    {
      "cell_type": "code",
      "execution_count": 1,
      "metadata": {
        "id": "ubApq8ShKEv-"
      },
      "outputs": [],
      "source": [
        "import statistics \n",
        "import pandas as pd\n",
        "import numpy as np\n",
        "from scipy import stats"
      ]
    },
    {
      "cell_type": "code",
      "source": [
        "import matplotlib.pyplot as plt\n",
        "a_xis = 20\n",
        "b_log = 14\n",
        "c_in = 28\n",
        "d_namic = 42\n",
        "e_psilon =18\n",
        "print('    =====soal 1=====')\n",
        "a_xis = (a_xis * 300000) + (a_xis * 75000)\n",
        "print('maka gaji yang di keluarkan adalah' + str (a_xis))\n",
        "b_log = (b_log * 360000) + (b_log * 75000)\n",
        "print('maka gaji yang di keluarkan adalah' + str (b_log))\n",
        "c_in = (c_in * 475000) + (c_in * 75000)\n",
        "print('maka gaji yang di keluarkan adalah' + str (c_in))\n",
        "d_namic = (d_namic * 580000) + (d_namic * 75000)\n",
        "print('maka gaji yang di keluarkan adalah' + str (d_namic))\n",
        "e_psilon = (e_psilon * 400000) + (e_psilon * 75000)\n",
        "print('maka gaji yang di keluarkan adalah' + str (e_psilon))\n",
        "print('')\n",
        "print('   =====soal 2=====')\n",
        "\n",
        "laba_a = 32500000\n",
        "laba_b = 31000000\n",
        "laba_c = 42000000\n",
        "laba_d = 51500000\n",
        "laba_e = 27000000\n",
        "\n",
        "utang_1 = 0.08\n",
        "utang_2 = 0.04\n",
        "utang_3 = 0.12\n",
        "utang_4 = 0.11\n",
        "utang_5 = 0.03 \n",
        "print('')\n",
        "\n",
        "pajak = 0.03\n",
        "pertahun = 12\n",
        "jm_a = ((laba_a * pajak) + (utang_1 * 280000000))\n",
        "print('maka total yang diklurkan  ' + str(jm_a))\n",
        "jm_b = ((laba_b * pajak) + (utang_2 * 310000000))\n",
        "print('maka total yang diklurkan  ' + str(jm_b))\n",
        "jm_c = ((laba_c * pajak) + (utang_3 * 420000000))\n",
        "print('maka total yang diklurkan  ' + str(jm_c))\n",
        "jm_d = ((laba_d * pajak) + (utang_4 * 550000000))\n",
        "print('maka total yang diklurkan  ' + str(jm_d))\n",
        "jm_e = ((laba_e * pajak) + (utang_5 * 340000000))\n",
        "print('maka total yang diklurkan  ' + str(jm_e))\n",
        "print('')\n",
        "#pie char\n",
        "import matplotlib.pyplot as plt\n",
        "print('                     PAJAK DAN HUTANG')\n",
        "fig = plt.figure()\n",
        "ax = fig.add_axes([0,0,1,1])\n",
        "ax.axis('equal')\n",
        "plt.title = (\"PAJAK DAN HUTANG\")\n",
        "jurusan = ['a_xis','b_log','c_in','d_namic','e_psilon']\n",
        "siswa = [23375000.0, 13330000.0, 51660000.0, 62045000.0, 11010000.0]\n",
        "ax.pie(siswa,labels=jurusan,autopct='%1.2f%%')\n",
        "plt.show()\n",
        "#grafik batang\n",
        "import matplotlib.pyplot as plt\n",
        "print('                     JUMLAH BELANJAAN')\n",
        "fig = plt.figure()\n",
        "ax = fig.add_axes([0,0,1,1])\n",
        "plt.title = (\"JUMLAH BELANJAAN\")\n",
        "jurusan = ['a_xis','b_log','c_in','d_namic','e_psilon']\n",
        "siswa = [23375000.0, 13330000.0, 51660000.0, 62045000.0, 11010000.0]\n",
        "c = ['blue','orange','purple','red','yellow']\n",
        "plt.bar (jurusan, siswa, color = c)\n",
        "plt.show()\n",
        "\n",
        "print('    =====soal 3=====')\n",
        "csr_1 = 0.025\n",
        "csr_2 = 0.035\n",
        "asset_1 = 280000000\n",
        "asset_2 = 310000000\n",
        "asset_3 = 420000000\n",
        "asset_4 = 550000000\n",
        "asset_5 = 340000000\n",
        "hasil = ((csr_1 * asset_1))\n",
        "print('maka total csr adalah :' + str(hasil))\n",
        "hasil1 = ((csr_2 * asset_2))\n",
        "print('maka total csr adalah :' + str(hasil1))\n",
        "hasil2 = ((csr_2 * asset_3))\n",
        "print('maka total csr adalah :' + str(hasil2))\n",
        "hasil3 = ((csr_2 * asset_4))\n",
        "print('maka total csr adalah :' + str(hasil3))\n",
        "hasil4 = ((csr_2 * asset_5))\n",
        "print('maka total csr adalah :' + str(hasil4))\n",
        "\n",
        "print('    =====soal 4=====')\n",
        "laba_1 = 32500000\n",
        "laba_2 = 31000000\n",
        "laba_3 = 42000000\n",
        "laba_4 = 51500000\n",
        "laba_5 = 27000000\n",
        "hasil = ((laba_1 * 12) + (laba_2 * 12) + (laba_3 *12) + (laba_4 * 12) + (laba_5 * 12))\n",
        "print('maka semua laba perusahaan selama 1 tahun adalah' + str(hasil))\n",
        "\n",
        "print('    =====soal 5=====')\n",
        "laba_1 = 32500000\n",
        "laba_2 = 31000000\n",
        "laba_3 = 42000000\n",
        "laba_4 = 51500000\n",
        "laba_5 = 51500000\n",
        " \n",
        "karyawan_1 = 20 \n",
        "karyawan_2 = 14\n",
        "karyawan_3 = 28\n",
        "karyawan_4 = 42\n",
        "karyawan_5 = 18\n",
        "import matplotlib.pyplot as plt\n",
        "print('                     persentase karyawan')\n",
        "fig = plt.figure()\n",
        "ax = fig.add_axes([0,0,1,1])\n",
        "plt.title = (\"persentase karyawan\")\n",
        "karyawan = ['karyawan_1','karyawan_2','karyawan_3','karyawan_4','karyawan_5']\n",
        "siswa = [20, 14, 28, 42, 18]\n",
        "c = ['blue','orange','purple','red','yellow']\n",
        "plt.bar (karyawan, siswa, color = c)\n",
        "plt.show()"
      ],
      "metadata": {
        "colab": {
          "base_uri": "https://localhost:8080/",
          "height": 1000
        },
        "id": "yZfubVobKc-5",
        "outputId": "8ab27842-998a-4633-9c15-5418c56ffc80"
      },
      "execution_count": null,
      "outputs": [
        {
          "output_type": "stream",
          "name": "stdout",
          "text": [
            "    =====soal 1=====\n",
            "maka gaji yang di keluarkan adalah7500000\n",
            "maka gaji yang di keluarkan adalah6090000\n",
            "maka gaji yang di keluarkan adalah15400000\n",
            "maka gaji yang di keluarkan adalah27510000\n",
            "maka gaji yang di keluarkan adalah8550000\n",
            "\n",
            "   =====soal 2=====\n",
            "\n",
            "maka total yang diklurkan  23375000.0\n",
            "maka total yang diklurkan  13330000.0\n",
            "maka total yang diklurkan  51660000.0\n",
            "maka total yang diklurkan  62045000.0\n",
            "maka total yang diklurkan  11010000.0\n",
            "\n",
            "                     PAJAK DAN HUTANG\n"
          ]
        },
        {
          "output_type": "display_data",
          "data": {
            "text/plain": [
              "<Figure size 432x288 with 1 Axes>"
            ],
            "image/png": "[encoded data removed]"
          },
          "metadata": {}
        },
        {
          "output_type": "stream",
          "name": "stdout",
          "text": [
            "                     JUMLAH BELANJAAN\n"
          ]
        },
        {
          "output_type": "display_data",
          "data": {
            "text/plain": [
              "<Figure size 432x288 with 1 Axes>"
            ],
            "image/png": "[encoded data removed]"
          },
          "metadata": {
            "needs_background": "light"
          }
        },
        {
          "output_type": "stream",
          "name": "stdout",
          "text": [
            "    =====soal 3=====\n",
            "maka total csr adalah :7000000.0\n",
            "maka total csr adalah :10850000.000000002\n",
            "maka total csr adalah :14700000.000000002\n",
            "maka total csr adalah :19250000.0\n",
            "maka total csr adalah :11900000.000000002\n",
            "    =====soal 4=====\n",
            "maka semua laba perusahaan selama 1 tahun adalah2208000000\n",
            "    =====soal 5=====\n",
            "                     persentase karyawan\n"
          ]
        },
        {
          "output_type": "display_data",
          "data": {
            "text/plain": [
              "<Figure size 432x288 with 1 Axes>"
            ],
            "image/png": "[encoded data removed]"
          },
          "metadata": {
            "needs_background": "light"
          }
        }
      ]
    },
    {
      "cell_type": "code",
      "source": [],
      "metadata": {
        "id": "-wQhXvgE335c"
      },
      "execution_count": null,
      "outputs": []
    }
  ]
}
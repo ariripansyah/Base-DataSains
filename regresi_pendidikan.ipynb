{
  "nbformat": 4,
  "nbformat_minor": 0,
  "metadata": {
    "colab": {
      "private_outputs": true,
      "provenance": []
    },
    "kernelspec": {
      "name": "python3",
      "display_name": "Python 3"
    },
    "language_info": {
      "name": "python"
    }
  },
  "cells": [
    {
      "cell_type": "code",
      "execution_count": null,
      "metadata": {
        "id": "F0aAflGMpO-Z"
      },
      "outputs": [],
      "source": [
        "from google.colab import drive\n",
        "drive.mount('/content/drive')"
      ]
    },
    {
      "cell_type": "code",
      "source": [
        "import pandas as pd\n",
        "path = '/content/drive/MyDrive/Colab Notebooks/csv/data-jenis-pendidikan-menurut-tingkat-wilayah-dki-jakarta (1).csv'\n",
        "df = pd.read_csv(path)\n",
        "df.describe()"
      ],
      "metadata": {
        "id": "cr5Taa-qu0FF"
      },
      "execution_count": null,
      "outputs": []
    },
    {
      "cell_type": "code",
      "source": [
        "df"
      ],
      "metadata": {
        "id": "8LqS_6SBwn9a"
      },
      "execution_count": null,
      "outputs": []
    },
    {
      "cell_type": "code",
      "source": [
        "import matplotlib.pyplot as plt #visualisai data\n",
        "\n",
        "df.plot(kind='scatter', x='laki_laki', y='perempuan') #untuk nama variable\n",
        "\n",
        "plt.title = ('Indeks kesejahteraan warga')\n",
        "plt.xlabel('tahun')\n",
        "plt.ylabel('jumlah')\n",
        "plt.xlim(0,200)\n",
        "plt.ylim(0,230)\n",
        "plt.grid(True)\n",
        "plt.show()"
      ],
      "metadata": {
        "id": "fEJ1zpi_wyDe"
      },
      "execution_count": null,
      "outputs": []
    },
    {
      "cell_type": "code",
      "source": [
        "import numpy as np\n",
        "x = np.array(df['laki_laki']) #feature\n",
        "y = np.array(df['perempuan']) #target\n",
        "\n",
        "print(f'x : {x}') #data x itu adalah variable independent atau bebas\n",
        "print(f'y : {y}') #var y itu adalah variable terikat/dependent"
      ],
      "metadata": {
        "id": "Rj57ezy9FzdP"
      },
      "execution_count": null,
      "outputs": []
    },
    {
      "cell_type": "code",
      "source": [
        "x = y.reshape(-1, 1)\n",
        "x.shape"
      ],
      "metadata": {
        "id": "uzswgON3GCV2"
      },
      "execution_count": null,
      "outputs": []
    },
    {
      "cell_type": "code",
      "source": [
        "x"
      ],
      "metadata": {
        "id": "iUzdXYeTGGGx"
      },
      "execution_count": null,
      "outputs": []
    },
    {
      "cell_type": "code",
      "source": [
        "#training model\n",
        "from sklearn.linear_model import LinearRegression #memanggil model regressi linear\n",
        "\n",
        "model = LinearRegression() #variable model bisa di ganti\n",
        "model.fit(x, y) #x feature y target\n",
        "#"
      ],
      "metadata": {
        "id": "c35WDKeaGHjO"
      },
      "execution_count": null,
      "outputs": []
    },
    {
      "cell_type": "code",
      "source": [
        "x_vis = np.array([0,200]).reshape(-1, 1)\n",
        "y_vis = model.predict(x_vis)"
      ],
      "metadata": {
        "id": "-A0oSWiEGJ0q"
      },
      "execution_count": null,
      "outputs": []
    },
    {
      "cell_type": "code",
      "source": [
        "plt.scatter(x, y)\n",
        "plt.plot(x_vis, y_vis,'-r')\n",
        "plt.title=('pendidikan')\n",
        "plt.xlabel('laki_laki')\n",
        "plt.ylabel('perempuan')\n",
        "plt.xlim(0, 200)\n",
        "plt.ylim(0,230)\n",
        "plt.grid(True)\n",
        "plt.show()"
      ],
      "metadata": {
        "id": "vAe6rYP9Gb-J"
      },
      "execution_count": null,
      "outputs": []
    },
    {
      "cell_type": "code",
      "source": [
        "print(f'intercept : {model.intercept_}')\n",
        "print(f'slope : {model.coef_}')\n"
      ],
      "metadata": {
        "id": "KkwRIsYvZ0Qj"
      },
      "execution_count": null,
      "outputs": []
    },
    {
      "cell_type": "code",
      "source": [
        "laki_laki = np.array([20, 30, 40, 50]).reshape(-1,1)\n",
        "laki_laki"
      ],
      "metadata": {
        "id": "Z9EdVkJoaUBt"
      },
      "execution_count": null,
      "outputs": []
    },
    {
      "cell_type": "code",
      "source": [
        "prediksi_laki_laki = model.predict(laki_laki)\n",
        "prediksi_laki_laki"
      ],
      "metadata": {
        "id": "J3TdRZA7avgo"
      },
      "execution_count": null,
      "outputs": []
    },
    {
      "cell_type": "code",
      "source": [
        "for pendidikan, index in zip(laki_laki, prediksi_laki_laki):\n",
        "    print(f'penduduk: {laki_laki} produksi : {index}')"
      ],
      "metadata": {
        "id": "T54FuSswbCOT"
      },
      "execution_count": null,
      "outputs": []
    },
    {
      "cell_type": "code",
      "source": [
        "df['laki_laki'].sum()"
      ],
      "metadata": {
        "id": "LPyCDRN0c9vC"
      },
      "execution_count": null,
      "outputs": []
    },
    {
      "cell_type": "code",
      "source": [
        "df['perempuan'].sum()\n"
      ],
      "metadata": {
        "id": "QDXEnADDdGM1"
      },
      "execution_count": null,
      "outputs": []
    },
    {
      "cell_type": "code",
      "source": [
        "fig = plt.figure()\n",
        "ax = fig.add_axes([0,0,1,1])\n",
        "plt.title = (\"JUMLAH USIA\")\n",
        "indeks = ['laki_laki','perempuan']\n",
        "jumlah = [1680.2559999999999,1645.137]\n",
        "c = ['red','purple']\n",
        "plt.bar (indeks, jumlah, color = c)\n",
        "plt.show()"
      ],
      "metadata": {
        "id": "epRTqMajd3Tz"
      },
      "execution_count": null,
      "outputs": []
    },
    {
      "cell_type": "code",
      "source": [
        "fig = plt.figure()\n",
        "ax = fig.add_axes([0,0,1,1])\n",
        "ax.axis('equal')\n",
        "plt.title=('')\n",
        "jurusan = ['laki_laki','perempuan']\n",
        "siswa = [1680.2559999999999, 1645.137]\n",
        "ax.pie(siswa,labels=jurusan,autopct='%1.2f%%')\n",
        "plt.show()"
      ],
      "metadata": {
        "id": "P_P7ybezeUxV"
      },
      "execution_count": null,
      "outputs": []
    }
  ]
}
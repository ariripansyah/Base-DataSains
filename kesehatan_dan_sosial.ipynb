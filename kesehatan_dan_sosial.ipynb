{
  "nbformat": 4,
  "nbformat_minor": 0,
  "metadata": {
    "colab": {
      "private_outputs": true,
      "provenance": []
    },
    "kernelspec": {
      "name": "python3",
      "display_name": "Python 3"
    },
    "language_info": {
      "name": "python"
    }
  },
  "cells": [
    {
      "cell_type": "code",
      "execution_count": null,
      "metadata": {
        "id": "hWRUzHkIpFRI"
      },
      "outputs": [],
      "source": [
        "from google.colab import drive\n",
        "drive.mount('/content/drive')"
      ]
    },
    {
      "cell_type": "code",
      "source": [
        "import pandas as pd\n",
        "path = '/content/drive/MyDrive/Colab Notebooks/csv/data-fasilitas-kesehatan-yang-melayani-kb-menurut-kabkota-di-dki-jakarta-bulan-januari-tahun-2020 - data-fasilitas-kesehatan-yang-melayani-kb-menurut-kabkota-di-dki-jakarta-bulan-januari-tahun-2020.csv'\n",
        "df = pd.read_csv(path)\n",
        "df.describe()"
      ],
      "metadata": {
        "id": "khiEJUkurGx3"
      },
      "execution_count": null,
      "outputs": []
    },
    {
      "cell_type": "code",
      "source": [
        "df"
      ],
      "metadata": {
        "id": "ZUeqG6KurdYf"
      },
      "execution_count": null,
      "outputs": []
    },
    {
      "cell_type": "code",
      "source": [
        "import matplotlib.pyplot as plt #visualisai data\n",
        "\n",
        "df.plot(kind='scatter', x='jumlah_yang_dilaporkan', y='jumlah_yang_ada') #untuk nama variable\n",
        "\n",
        "plt.title = ('Indeks kesejahteraan warga')\n",
        "plt.xlabel('jumlah_yang_dilaporkan')\n",
        "plt.ylabel('jumlah_yang_ada')\n",
        "plt.xlim(0,200)\n",
        "plt.ylim(0,230)\n",
        "plt.grid(True)\n",
        "plt.show()"
      ],
      "metadata": {
        "id": "h1mHZoj2rhrn"
      },
      "execution_count": null,
      "outputs": []
    },
    {
      "cell_type": "code",
      "source": [
        "import numpy as np\n",
        "x = np.array(df['jumlah_yang_dilaporkan']) #feature\n",
        "y = np.array(df['jumlah_yang_ada']) #target\n",
        "\n",
        "print(f'x : {x}') #data x itu adalah variable independent atau bebas\n",
        "print(f'y : {y}') #var y itu adalah variable terikat/dependent"
      ],
      "metadata": {
        "id": "hyXMkTJPrxz2"
      },
      "execution_count": null,
      "outputs": []
    },
    {
      "cell_type": "code",
      "source": [
        "x = y.reshape(-1, 1)\n",
        "x.shape"
      ],
      "metadata": {
        "id": "2WWUkjfur7eU"
      },
      "execution_count": null,
      "outputs": []
    },
    {
      "cell_type": "code",
      "source": [
        "#training model\n",
        "from sklearn.linear_model import LinearRegression #memanggil model regressi linear\n",
        "\n",
        "model = LinearRegression() #variable model bisa di ganti\n",
        "model.fit(x, y) #x feature y target\n",
        "#"
      ],
      "metadata": {
        "id": "CvGonru3r_N-"
      },
      "execution_count": null,
      "outputs": []
    },
    {
      "cell_type": "code",
      "source": [
        "x_vis = np.array([0,200]).reshape(-1, 1)\n",
        "y_vis = model.predict(x_vis)"
      ],
      "metadata": {
        "id": "hdpLtL9TsDDo"
      },
      "execution_count": null,
      "outputs": []
    },
    {
      "cell_type": "code",
      "source": [
        "plt.scatter(x, y)\n",
        "plt.plot(x_vis, y_vis,'-r')\n",
        "plt.title=('pendidikan')\n",
        "plt.xlabel('jumlah_yang_dilaporkan')\n",
        "plt.ylabel('jumlah_yang_ada')\n",
        "plt.xlim(0, 200)\n",
        "plt.ylim(0,230)\n",
        "plt.grid(True)\n",
        "plt.show()"
      ],
      "metadata": {
        "id": "vQf0qMStsGjF"
      },
      "execution_count": null,
      "outputs": []
    },
    {
      "cell_type": "code",
      "source": [
        "print(f'intercept : {model.intercept_}')\n",
        "print(f'slope : {model.coef_}')\n"
      ],
      "metadata": {
        "id": "an81ffgxsWes"
      },
      "execution_count": null,
      "outputs": []
    },
    {
      "cell_type": "code",
      "source": [
        "jumlah_yang_dilaporkan = np.array([20, 30, 40, 50]).reshape(-1, 1)\n",
        "jumlah_yang_dilaporkan"
      ],
      "metadata": {
        "id": "d3gME2RdsXbC"
      },
      "execution_count": null,
      "outputs": []
    },
    {
      "cell_type": "code",
      "source": [
        "prediksi_jumlah_yang_dilaporkan = model.predict(jumlah_yang_dilaporkan)\n",
        "prediksi_jumlah_yang_dilaporkan"
      ],
      "metadata": {
        "id": "mL_UjAtJsmis"
      },
      "execution_count": null,
      "outputs": []
    },
    {
      "cell_type": "code",
      "source": [
        "for kesehatan, index in zip(jumlah_yang_dilaporkan, prediksi_jumlah_yang_dilaporkan):\n",
        "    print(f'kesehatan : {jumlah_yang_dilaporkan} produksi : {index}')"
      ],
      "metadata": {
        "id": "NOV_S5f8snJq"
      },
      "execution_count": null,
      "outputs": []
    },
    {
      "cell_type": "code",
      "source": [
        "df['jumlah_yang_dilaporkan'].sum()"
      ],
      "metadata": {
        "id": "9xfKJeQWtE7-"
      },
      "execution_count": null,
      "outputs": []
    },
    {
      "cell_type": "code",
      "source": [
        "df['jumlah_yang_ada'].sum()"
      ],
      "metadata": {
        "id": "a5oGPZKHtK28"
      },
      "execution_count": null,
      "outputs": []
    },
    {
      "cell_type": "code",
      "source": [
        "fig = plt.figure()\n",
        "ax = fig.add_axes([0,0,1,1])\n",
        "plt.title = (\"kesehatan\")\n",
        "indeks = ['jumlah_yang_dilaporkan','jumlah_yang_ada']\n",
        "jumlah = [3258,3416]\n",
        "c = ['red','purple']\n",
        "plt.bar (indeks, jumlah, color = c)\n",
        "plt.show()"
      ],
      "metadata": {
        "id": "kUFftphKtUrV"
      },
      "execution_count": null,
      "outputs": []
    },
    {
      "cell_type": "code",
      "source": [
        "fig = plt.figure()\n",
        "ax = fig.add_axes([0,0,1,1])\n",
        "ax.axis('equal')\n",
        "plt.title=('')\n",
        "indeks = ['jumlah_yang_dilaporkan','jumlah_yang_ada']\n",
        "jumlah = [3258,3416]\n",
        "ax.pie(jumlah,labels=indeks,autopct='%1.2f%%')\n",
        "plt.show()"
      ],
      "metadata": {
        "id": "Or4w9DFwtm7L"
      },
      "execution_count": null,
      "outputs": []
    }
  ]
}